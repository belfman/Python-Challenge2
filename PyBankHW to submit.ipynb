{
 "cells": [
  {
   "cell_type": "code",
   "execution_count": 1,
   "metadata": {},
   "outputs": [],
   "source": [
    "#import libraries\n",
    "import os\n",
    "import csv"
   ]
  },
  {
   "cell_type": "code",
   "execution_count": 2,
   "metadata": {},
   "outputs": [],
   "source": [
    "#Set path to open data file\n",
    "csvPath1 = os.path.join('budget_data.csv')"
   ]
  },
  {
   "cell_type": "code",
   "execution_count": 3,
   "metadata": {},
   "outputs": [],
   "source": [
    "#store variables and set up blank lists to store values from loops\n",
    "date = []\n",
    "dateChange = []\n",
    "revenue = []\n",
    "revenueChangesList = []\n",
    "totalRevenue = 0\n",
    "priorRevenue = 0\n",
    "biggestIncrease = [\"\", 0]\n",
    "biggestDecrease = [\"\", 8888888888]"
   ]
  },
  {
   "cell_type": "code",
   "execution_count": 4,
   "metadata": {},
   "outputs": [],
   "source": [
    "#read in csv file\n",
    "with open(csvPath1, 'r') as csvBudget1:\n",
    "\n",
    "    csvReader = csv.reader(csvBudget1, delimiter=',')\n",
    "    next(csvReader, None)\n",
    "    for row in csvReader:\n",
    "        \n",
    "        #append data from each row to the revenue and totalrevenue lists\n",
    "        date.append(row[0])\n",
    "        revenue.append(int(row[1]))\n",
    "        totalRevenue += int(row[1])\n",
    "\n",
    "        # calc revenue changes\n",
    "        revenueChanges = int(row[1]) - priorRevenue\n",
    "        priorRevenue = int(row[1])\n",
    "        revenueChangesList = revenueChangesList + [revenueChanges]\n",
    "        dateChange = dateChange + [row[0]]\n",
    "\n",
    "        # find min/max of revenue list\n",
    "        highestRevenue = max(revenue)\n",
    "        lowestRevenue = min(revenue)\n",
    "\n",
    "        # Biggest Increase\n",
    "        if (revenueChanges > biggestIncrease[1]):\n",
    "            biggestIncrease[0] = [row[0]]\n",
    "            biggestIncrease[1] = revenueChanges\n",
    "        # Biggest Decrease\n",
    "        if (revenueChanges < biggestDecrease[1]):\n",
    "            biggestDecrease[0] = [row[0]]\n",
    "            biggestDecrease[1] = revenueChanges"
   ]
  },
  {
   "cell_type": "code",
   "execution_count": 9,
   "metadata": {},
   "outputs": [
    {
     "name": "stdout",
     "output_type": "stream",
     "text": [
      "Total Months: 41\n",
      "Total Revenue: $18971412\n",
      "Avg Revenue Change per month: $22098.35\n",
      "Greatest Increase in Revenue: ['Feb-16'] ($1837235)\n",
      "Greatest Decrease in Revenue: ['Aug-14'] ($-1779747)\n",
      "\n"
     ]
    }
   ],
   "source": [
    "#round added to avgRevenue\n",
    "avgRevenue = round(sum(revenueChangesList) / (len(date) -1),2)\n",
    "\n",
    "#the length of list 'date' will be the total months\n",
    "totalMonths = len(date)\n",
    "#print statements for results. \\n means print next line. set as\n",
    "#print statements for results. \\n means print next line. set as var results to call in print\n",
    "results = (\n",
    "    f\"Total Months: {totalMonths}\\n\"\n",
    "    f\"Total Revenue: ${totalRevenue}\\n\"\n",
    "    f\"Avg Revenue Change per month: ${avgRevenue}\\n\"\n",
    "    f\"Greatest Increase in Revenue: {biggestIncrease[0]} (${biggestIncrease[1]})\\n\"\n",
    "    f\"Greatest Decrease in Revenue: {biggestDecrease[0]} (${biggestDecrease[1]})\\n\"\n",
    ")\n",
    "\n",
    "print(results)\n",
    "# Output to text file\n",
    "txtOutputPath = os.path.join('PyBank.txt')\n",
    "with open(txtOutputPath, \"w\") as done:\n",
    "    done.write(results)"
   ]
  }
 ],
 "metadata": {
  "kernelspec": {
   "display_name": "Python 3",
   "language": "python",
   "name": "python3"
  },
  "language_info": {
   "codemirror_mode": {
    "name": "ipython",
    "version": 3
   },
   "file_extension": ".py",
   "mimetype": "text/x-python",
   "name": "python",
   "nbconvert_exporter": "python",
   "pygments_lexer": "ipython3",
   "version": "3.6.4"
  }
 },
 "nbformat": 4,
 "nbformat_minor": 2
}
